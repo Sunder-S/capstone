{
 "cells": [
  {
   "cell_type": "markdown",
   "metadata": {},
   "source": [
    "## Introduction"
   ]
  },
  {
   "cell_type": "markdown",
   "metadata": {},
   "source": [
    "## <span style=\"color:#555\">Data:</span>\n",
    "The train and test data will consist of various features that describe that property in Bengaluru. This is an actual data set that is curated over months of primary & secondary research by our team. Each row contains fixed size object of features. There are 9 features and each feature can be accessed by its name."
   ]
  },
  {
   "cell_type": "markdown",
   "metadata": {},
   "source": [
    "## <span style=\"color:#555\">Features</span>\n",
    "* Area_type – describes the area\n",
    "* Availability – when it can be possessed or when it is ready(categorical and time-series)\n",
    "* Location – where it is located in Bengaluru\n",
    "* Price – Value of the property in lakhs(INR)\n",
    "* Size – in BHK or Bedroom (1-10 or more)\n",
    "* Society – to which society it belongs\n",
    "* Total_sqft – size of the property in sq.ft\n",
    "* Bath – No. of bathrooms\n",
    "* Balcony – No. of the balcony"
   ]
  },
  {
   "cell_type": "markdown",
   "metadata": {},
   "source": [
    "## <span style=\"color:#555\">Problem Statement</span>\n",
    "With the given 9 features(categorical and continuous) build a model to predict the price of houses in Bengaluru."
   ]
  },
  {
   "cell_type": "markdown",
   "metadata": {},
   "source": [
    "## Library Imports"
   ]
  },
  {
   "cell_type": "code",
   "execution_count": 1,
   "metadata": {
    "collapsed": true
   },
   "outputs": [],
   "source": [
    "import numpy as np\n",
    "import pandas as pd\n",
    "pd.set_option('display.max_columns',100)\n",
    "\n",
    "from matplotlib import pyplot as plt\n",
    "%matplotlib inline\n",
    "\n",
    "import seaborn as sns\n",
    "sns.set_style('darkgrid')\n",
    "\n",
    "from sklearn.model_selection import train_test_split, GridSearchCV\n",
    "from sklearn.linear_model import LinearRegression, Lasso, Ridge, ElasticNet\n",
    "from sklearn.tree import DecisionTreeRegressor\n",
    "from sklearn.ensemble import RandomForestRegressor, GradientBoostingRegressor\n",
    "\n",
    "from sklearn.preprocessing import StandardScaler, LabelEncoder\n",
    "from sklearn.pipeline import make_pipeline\n",
    "\n",
    "from sklearn.metrics import mean_absolute_error, mean_squared_error, r2_score\n",
    "import datetime\n",
    "import re\n",
    "\n",
    "import warnings\n",
    "warnings.simplefilter(action='ignore',category=FutureWarning)\n",
    "\n"
   ]
  },
  {
   "cell_type": "markdown",
   "metadata": {},
   "source": [
    "## Exploratory Analysis"
   ]
  },
  {
   "cell_type": "code",
   "execution_count": 2,
   "metadata": {},
   "outputs": [
    {
     "data": {
      "text/html": [
       "<div>\n",
       "<style scoped>\n",
       "    .dataframe tbody tr th:only-of-type {\n",
       "        vertical-align: middle;\n",
       "    }\n",
       "\n",
       "    .dataframe tbody tr th {\n",
       "        vertical-align: top;\n",
       "    }\n",
       "\n",
       "    .dataframe thead th {\n",
       "        text-align: right;\n",
       "    }\n",
       "</style>\n",
       "<table border=\"1\" class=\"dataframe\">\n",
       "  <thead>\n",
       "    <tr style=\"text-align: right;\">\n",
       "      <th></th>\n",
       "      <th>area_type</th>\n",
       "      <th>availability</th>\n",
       "      <th>location</th>\n",
       "      <th>size</th>\n",
       "      <th>society</th>\n",
       "      <th>total_sqft</th>\n",
       "      <th>bath</th>\n",
       "      <th>balcony</th>\n",
       "      <th>price</th>\n",
       "    </tr>\n",
       "  </thead>\n",
       "  <tbody>\n",
       "    <tr>\n",
       "      <th>0</th>\n",
       "      <td>Super built-up  Area</td>\n",
       "      <td>12/19/2019</td>\n",
       "      <td>Electronic City Phase II</td>\n",
       "      <td>2 BHK</td>\n",
       "      <td>Coomee</td>\n",
       "      <td>1056</td>\n",
       "      <td>2.0</td>\n",
       "      <td>1.0</td>\n",
       "      <td>39.07</td>\n",
       "    </tr>\n",
       "    <tr>\n",
       "      <th>1</th>\n",
       "      <td>Plot  Area</td>\n",
       "      <td>Ready To Move</td>\n",
       "      <td>Chikka Tirupathi</td>\n",
       "      <td>4 Bedroom</td>\n",
       "      <td>Theanmp</td>\n",
       "      <td>2600</td>\n",
       "      <td>5.0</td>\n",
       "      <td>3.0</td>\n",
       "      <td>120.00</td>\n",
       "    </tr>\n",
       "    <tr>\n",
       "      <th>2</th>\n",
       "      <td>Built-up  Area</td>\n",
       "      <td>Ready To Move</td>\n",
       "      <td>Uttarahalli</td>\n",
       "      <td>3 BHK</td>\n",
       "      <td>NaN</td>\n",
       "      <td>1440</td>\n",
       "      <td>2.0</td>\n",
       "      <td>3.0</td>\n",
       "      <td>62.00</td>\n",
       "    </tr>\n",
       "    <tr>\n",
       "      <th>3</th>\n",
       "      <td>Super built-up  Area</td>\n",
       "      <td>Ready To Move</td>\n",
       "      <td>Lingadheeranahalli</td>\n",
       "      <td>3 BHK</td>\n",
       "      <td>Soiewre</td>\n",
       "      <td>1521</td>\n",
       "      <td>3.0</td>\n",
       "      <td>1.0</td>\n",
       "      <td>95.00</td>\n",
       "    </tr>\n",
       "    <tr>\n",
       "      <th>4</th>\n",
       "      <td>Super built-up  Area</td>\n",
       "      <td>Ready To Move</td>\n",
       "      <td>Kothanur</td>\n",
       "      <td>2 BHK</td>\n",
       "      <td>NaN</td>\n",
       "      <td>1200</td>\n",
       "      <td>2.0</td>\n",
       "      <td>1.0</td>\n",
       "      <td>51.00</td>\n",
       "    </tr>\n",
       "  </tbody>\n",
       "</table>\n",
       "</div>"
      ],
      "text/plain": [
       "              area_type   availability                  location       size  \\\n",
       "0  Super built-up  Area     12/19/2019  Electronic City Phase II      2 BHK   \n",
       "1            Plot  Area  Ready To Move          Chikka Tirupathi  4 Bedroom   \n",
       "2        Built-up  Area  Ready To Move               Uttarahalli      3 BHK   \n",
       "3  Super built-up  Area  Ready To Move        Lingadheeranahalli      3 BHK   \n",
       "4  Super built-up  Area  Ready To Move                  Kothanur      2 BHK   \n",
       "\n",
       "   society total_sqft  bath  balcony   price  \n",
       "0  Coomee        1056   2.0      1.0   39.07  \n",
       "1  Theanmp       2600   5.0      3.0  120.00  \n",
       "2      NaN       1440   2.0      3.0   62.00  \n",
       "3  Soiewre       1521   3.0      1.0   95.00  \n",
       "4      NaN       1200   2.0      1.0   51.00  "
      ]
     },
     "execution_count": 2,
     "metadata": {},
     "output_type": "execute_result"
    }
   ],
   "source": [
    "df = pd.read_csv('Predicting-House-Prices-In-Bengaluru-Data.csv')\n",
    "df.head()"
   ]
  },
  {
   "cell_type": "markdown",
   "metadata": {},
   "source": [
    "### Basic Information"
   ]
  },
  {
   "cell_type": "code",
   "execution_count": 3,
   "metadata": {},
   "outputs": [
    {
     "name": "stdout",
     "output_type": "stream",
     "text": [
      "<class 'pandas.core.frame.DataFrame'>\n",
      "RangeIndex: 13320 entries, 0 to 13319\n",
      "Data columns (total 9 columns):\n",
      "area_type       13320 non-null object\n",
      "availability    13320 non-null object\n",
      "location        13319 non-null object\n",
      "size            13304 non-null object\n",
      "society         7818 non-null object\n",
      "total_sqft      13320 non-null object\n",
      "bath            13247 non-null float64\n",
      "balcony         12711 non-null float64\n",
      "price           13320 non-null float64\n",
      "dtypes: float64(3), object(6)\n",
      "memory usage: 936.6+ KB\n"
     ]
    }
   ],
   "source": [
    "df.info()"
   ]
  },
  {
   "cell_type": "code",
   "execution_count": 4,
   "metadata": {},
   "outputs": [
    {
     "data": {
      "text/plain": [
       "area_type        object\n",
       "availability     object\n",
       "location         object\n",
       "size             object\n",
       "society          object\n",
       "total_sqft       object\n",
       "bath            float64\n",
       "balcony         float64\n",
       "price           float64\n",
       "dtype: object"
      ]
     },
     "execution_count": 4,
     "metadata": {},
     "output_type": "execute_result"
    }
   ],
   "source": [
    "df.dtypes"
   ]
  },
  {
   "cell_type": "code",
   "execution_count": 5,
   "metadata": {},
   "outputs": [
    {
     "data": {
      "text/plain": [
       "(13320, 9)"
      ]
     },
     "execution_count": 5,
     "metadata": {},
     "output_type": "execute_result"
    }
   ],
   "source": [
    "df.shape"
   ]
  },
  {
   "cell_type": "code",
   "execution_count": 6,
   "metadata": {},
   "outputs": [
    {
     "data": {
      "text/html": [
       "<div>\n",
       "<style scoped>\n",
       "    .dataframe tbody tr th:only-of-type {\n",
       "        vertical-align: middle;\n",
       "    }\n",
       "\n",
       "    .dataframe tbody tr th {\n",
       "        vertical-align: top;\n",
       "    }\n",
       "\n",
       "    .dataframe thead th {\n",
       "        text-align: right;\n",
       "    }\n",
       "</style>\n",
       "<table border=\"1\" class=\"dataframe\">\n",
       "  <thead>\n",
       "    <tr style=\"text-align: right;\">\n",
       "      <th></th>\n",
       "      <th>bath</th>\n",
       "      <th>balcony</th>\n",
       "      <th>price</th>\n",
       "    </tr>\n",
       "  </thead>\n",
       "  <tbody>\n",
       "    <tr>\n",
       "      <th>count</th>\n",
       "      <td>13247.000000</td>\n",
       "      <td>12711.000000</td>\n",
       "      <td>13320.000000</td>\n",
       "    </tr>\n",
       "    <tr>\n",
       "      <th>mean</th>\n",
       "      <td>2.692610</td>\n",
       "      <td>1.584376</td>\n",
       "      <td>112.565627</td>\n",
       "    </tr>\n",
       "    <tr>\n",
       "      <th>std</th>\n",
       "      <td>1.341458</td>\n",
       "      <td>0.817263</td>\n",
       "      <td>148.971674</td>\n",
       "    </tr>\n",
       "    <tr>\n",
       "      <th>min</th>\n",
       "      <td>1.000000</td>\n",
       "      <td>0.000000</td>\n",
       "      <td>8.000000</td>\n",
       "    </tr>\n",
       "    <tr>\n",
       "      <th>25%</th>\n",
       "      <td>2.000000</td>\n",
       "      <td>1.000000</td>\n",
       "      <td>50.000000</td>\n",
       "    </tr>\n",
       "    <tr>\n",
       "      <th>50%</th>\n",
       "      <td>2.000000</td>\n",
       "      <td>2.000000</td>\n",
       "      <td>72.000000</td>\n",
       "    </tr>\n",
       "    <tr>\n",
       "      <th>75%</th>\n",
       "      <td>3.000000</td>\n",
       "      <td>2.000000</td>\n",
       "      <td>120.000000</td>\n",
       "    </tr>\n",
       "    <tr>\n",
       "      <th>max</th>\n",
       "      <td>40.000000</td>\n",
       "      <td>3.000000</td>\n",
       "      <td>3600.000000</td>\n",
       "    </tr>\n",
       "  </tbody>\n",
       "</table>\n",
       "</div>"
      ],
      "text/plain": [
       "               bath       balcony         price\n",
       "count  13247.000000  12711.000000  13320.000000\n",
       "mean       2.692610      1.584376    112.565627\n",
       "std        1.341458      0.817263    148.971674\n",
       "min        1.000000      0.000000      8.000000\n",
       "25%        2.000000      1.000000     50.000000\n",
       "50%        2.000000      2.000000     72.000000\n",
       "75%        3.000000      2.000000    120.000000\n",
       "max       40.000000      3.000000   3600.000000"
      ]
     },
     "execution_count": 6,
     "metadata": {},
     "output_type": "execute_result"
    }
   ],
   "source": [
    "df.describe()"
   ]
  },
  {
   "cell_type": "code",
   "execution_count": 7,
   "metadata": {},
   "outputs": [
    {
     "data": {
      "text/html": [
       "<div>\n",
       "<style scoped>\n",
       "    .dataframe tbody tr th:only-of-type {\n",
       "        vertical-align: middle;\n",
       "    }\n",
       "\n",
       "    .dataframe tbody tr th {\n",
       "        vertical-align: top;\n",
       "    }\n",
       "\n",
       "    .dataframe thead th {\n",
       "        text-align: right;\n",
       "    }\n",
       "</style>\n",
       "<table border=\"1\" class=\"dataframe\">\n",
       "  <thead>\n",
       "    <tr style=\"text-align: right;\">\n",
       "      <th></th>\n",
       "      <th>area_type</th>\n",
       "      <th>availability</th>\n",
       "      <th>location</th>\n",
       "      <th>size</th>\n",
       "      <th>society</th>\n",
       "      <th>total_sqft</th>\n",
       "    </tr>\n",
       "  </thead>\n",
       "  <tbody>\n",
       "    <tr>\n",
       "      <th>count</th>\n",
       "      <td>13320</td>\n",
       "      <td>13320</td>\n",
       "      <td>13319</td>\n",
       "      <td>13304</td>\n",
       "      <td>7818</td>\n",
       "      <td>13320</td>\n",
       "    </tr>\n",
       "    <tr>\n",
       "      <th>unique</th>\n",
       "      <td>4</td>\n",
       "      <td>81</td>\n",
       "      <td>1305</td>\n",
       "      <td>31</td>\n",
       "      <td>2688</td>\n",
       "      <td>2117</td>\n",
       "    </tr>\n",
       "    <tr>\n",
       "      <th>top</th>\n",
       "      <td>Super built-up  Area</td>\n",
       "      <td>Ready To Move</td>\n",
       "      <td>Whitefield</td>\n",
       "      <td>2 BHK</td>\n",
       "      <td>GrrvaGr</td>\n",
       "      <td>1200</td>\n",
       "    </tr>\n",
       "    <tr>\n",
       "      <th>freq</th>\n",
       "      <td>8790</td>\n",
       "      <td>10581</td>\n",
       "      <td>540</td>\n",
       "      <td>5199</td>\n",
       "      <td>80</td>\n",
       "      <td>843</td>\n",
       "    </tr>\n",
       "  </tbody>\n",
       "</table>\n",
       "</div>"
      ],
      "text/plain": [
       "                   area_type   availability    location   size  society  \\\n",
       "count                  13320          13320       13319  13304     7818   \n",
       "unique                     4             81        1305     31     2688   \n",
       "top     Super built-up  Area  Ready To Move  Whitefield  2 BHK  GrrvaGr   \n",
       "freq                    8790          10581         540   5199       80   \n",
       "\n",
       "       total_sqft  \n",
       "count       13320  \n",
       "unique       2117  \n",
       "top          1200  \n",
       "freq          843  "
      ]
     },
     "execution_count": 7,
     "metadata": {},
     "output_type": "execute_result"
    }
   ],
   "source": [
    "df.describe(include='object')"
   ]
  },
  {
   "cell_type": "code",
   "execution_count": 8,
   "metadata": {},
   "outputs": [
    {
     "name": "stdout",
     "output_type": "stream",
     "text": [
      "area_type ==>  ['Super built-up  Area' 'Plot  Area' 'Built-up  Area' 'Carpet  Area']\n",
      "availability ==>  ['12/19/2019' 'Ready To Move' '5/18/2019' '2/18/2019' '11/18/2019'\n",
      " '12/20/2019' '10/17/2019' '12/21/2019' '9/19/2019' '9/20/2019' '3/18/2019'\n",
      " '2/20/2019' '4/18/2019' '8/20/2019' '10/18/2019' '3/19/2019' '9/17/2019'\n",
      " '12/18/2019' '8/17/2019' '4/19/2019' '6/18/2019' '12/22/2019' '1/22/2019'\n",
      " '8/18/2019' '1/19/2019' '7/17/2019' '7/18/2019' '6/21/2019' '5/20/2019'\n",
      " '8/19/2019' '9/18/2019' '5/17/2019' '6/17/2019' '5/21/2019' '1/18/2019'\n",
      " '3/20/2019' '12/17/2019' '3/16/2019' '6/19/2019' '6/22/2019' '7/19/2019'\n",
      " '2/21/2019' 'Immediate Possession' '5/19/2019' '11/17/2019' '10/20/2019'\n",
      " '6/20/2019' '2/19/2019' '10/21/2019' '1/21/2019' '3/17/2019' '4/17/2019'\n",
      " '5/22/2019' '10/19/2019' '7/21/2019' '11/21/2019' '3/21/2019' '12/16/2019'\n",
      " '3/22/2019' '1/20/2019' '9/21/2019' '8/21/2019' '11/14/2019' '11/19/2019'\n",
      " '11/15/2019' '7/16/2019' '6/15/2019' '2/17/2019' '11/20/2019' '7/20/2019'\n",
      " '9/16/2019' '10/15/2019' '12/15/2019' '10/16/2019' '11/22/2019'\n",
      " '8/15/2019' '1/17/2019' '11/16/2019' '4/20/2019' '1/16/2019' '7/14/2019']\n",
      "location ==>  ['Electronic City Phase II' 'Chikka Tirupathi' 'Uttarahalli' ...,\n",
      " '12th cross srinivas nagar banshankari 3rd stage' 'Havanur extension'\n",
      " 'Abshot Layout']\n",
      "size ==>  ['2 BHK' '4 Bedroom' '3 BHK' '4 BHK' '6 Bedroom' '3 Bedroom' '1 BHK' '1 RK'\n",
      " '1 Bedroom' '8 Bedroom' '2 Bedroom' '7 Bedroom' '5 BHK' '7 BHK' '6 BHK'\n",
      " '5 Bedroom' '11 BHK' '9 BHK' nan '9 Bedroom' '27 BHK' '10 Bedroom'\n",
      " '11 Bedroom' '10 BHK' '19 BHK' '16 BHK' '43 Bedroom' '14 BHK' '8 BHK'\n",
      " '12 Bedroom' '13 BHK' '18 Bedroom']\n",
      "society ==>  ['Coomee ' 'Theanmp' nan ..., 'SJovest' 'ThhtsV ' 'RSntsAp']\n",
      "total_sqft ==>  ['1056' '2600' '1440' ..., '1133 - 1384' '774' '4689']\n"
     ]
    }
   ],
   "source": [
    "# See the unqiue values in object type features\n",
    "for name in df.dtypes[df.dtypes=='object'].index:\n",
    "    print(name, '==> ',df[name].unique())"
   ]
  },
  {
   "cell_type": "code",
   "execution_count": 9,
   "metadata": {},
   "outputs": [
    {
     "name": "stdout",
     "output_type": "stream",
     "text": [
      "area_type ==>  Super built-up  Area    8790\n",
      "Built-up  Area          2418\n",
      "Plot  Area              2025\n",
      "Carpet  Area              87\n",
      "Name: area_type, dtype: int64\n",
      "availability ==>  Ready To Move           10581\n",
      "12/18/2019                307\n",
      "5/18/2019                 295\n",
      "4/18/2019                 271\n",
      "8/18/2019                 200\n",
      "12/19/2019                185\n",
      "7/18/2019                 143\n",
      "3/18/2019                 131\n",
      "6/18/2019                  99\n",
      "12/20/2019                 98\n",
      "12/21/2019                 93\n",
      "3/19/2019                  88\n",
      "2/18/2019                  62\n",
      "11/18/2019                 47\n",
      "1/18/2019                  43\n",
      "9/18/2019                  41\n",
      "6/19/2019                  40\n",
      "10/18/2019                 39\n",
      "1/19/2019                  39\n",
      "7/19/2019                  36\n",
      "12/17/2019                 29\n",
      "1/20/2019                  24\n",
      "10/17/2019                 21\n",
      "9/19/2019                  21\n",
      "6/22/2019                  19\n",
      "8/19/2019                  18\n",
      "6/21/2019                  17\n",
      "8/20/2019                  16\n",
      "Immediate Possession       16\n",
      "4/19/2019                  16\n",
      "                        ...  \n",
      "1/22/2019                   6\n",
      "10/21/2019                  6\n",
      "7/20/2019                   5\n",
      "8/21/2019                   5\n",
      "3/17/2019                   5\n",
      "5/20/2019                   4\n",
      "4/20/2019                   4\n",
      "11/20/2019                  4\n",
      "12/16/2019                  4\n",
      "3/22/2019                   3\n",
      "11/21/2019                  3\n",
      "2/19/2019                   3\n",
      "3/16/2019                   3\n",
      "11/15/2019                  2\n",
      "9/16/2019                   2\n",
      "11/22/2019                  2\n",
      "2/17/2019                   2\n",
      "3/20/2019                   2\n",
      "2/20/2019                   2\n",
      "10/15/2019                  2\n",
      "1/17/2019                   1\n",
      "11/14/2019                  1\n",
      "12/15/2019                  1\n",
      "10/16/2019                  1\n",
      "7/14/2019                   1\n",
      "8/15/2019                   1\n",
      "7/16/2019                   1\n",
      "6/15/2019                   1\n",
      "1/16/2019                   1\n",
      "11/16/2019                  1\n",
      "Name: availability, Length: 81, dtype: int64\n",
      "location ==>  Whitefield                                  540\n",
      "Sarjapur  Road                              399\n",
      "Electronic City                             302\n",
      "Kanakpura Road                              273\n",
      "Thanisandra                                 234\n",
      "Yelahanka                                   213\n",
      "Uttarahalli                                 186\n",
      "Hebbal                                      177\n",
      "Marathahalli                                175\n",
      "Raja Rajeshwari Nagar                       171\n",
      "Hennur Road                                 152\n",
      "Bannerghatta Road                           152\n",
      "7th Phase JP Nagar                          149\n",
      "Haralur Road                                142\n",
      "Electronic City Phase II                    132\n",
      "Rajaji Nagar                                107\n",
      "Chandapura                                  100\n",
      "Bellandur                                    96\n",
      "KR Puram                                     91\n",
      "Electronics City Phase 1                     88\n",
      "Hoodi                                        88\n",
      "Yeshwanthpur                                 85\n",
      "Begur Road                                   84\n",
      "Sarjapur                                     82\n",
      "Kasavanhalli                                 80\n",
      "Harlur                                       79\n",
      "Banashankari                                 75\n",
      "Hormavu                                      74\n",
      "Ramamurthy Nagar                             73\n",
      "Kengeri                                      73\n",
      "                                           ... \n",
      "Wheelers Road                                 1\n",
      "Nrupathunga Nagar                             1\n",
      "K R C kothanur                                1\n",
      "Maruthi Layout                                1\n",
      "Tilak Nagar                                   1\n",
      "Handenahalli                                  1\n",
      "Bhattarahalli                                 1\n",
      "Off Sarjapur road,                            1\n",
      "Zuzuvadi                                      1\n",
      "Meenakshi Layout                              1\n",
      "kanakapura main road                          1\n",
      "Mukkutam Nagar                                1\n",
      "Binny Mills Employees Colony                  1\n",
      "Michael Palaya                                1\n",
      "Viswapriyanagar.begur Road.bommanahalli.      1\n",
      "Sarvobhogam Nagar                             1\n",
      "Shakthi Nagar                                 1\n",
      "Chikbasavanapura                              1\n",
      "Brigade Road                                  1\n",
      "Chikkanahalli                                 1\n",
      "Escorts Colony                                1\n",
      "1Hanuman Nagar                                1\n",
      "Bande Nallasandra                             1\n",
      "Vidya Nagar                                   1\n",
      "white field,kadugodi                          1\n",
      "Annasandrapalya                               1\n",
      "Vidhyanagar Cross                             1\n",
      "Gangondanahalli                               1\n",
      "Sahyadri Layout                               1\n",
      "Chikkagubbi                                   1\n",
      "Name: location, Length: 1305, dtype: int64\n",
      "size ==>  2 BHK         5199\n",
      "3 BHK         4310\n",
      "4 Bedroom      826\n",
      "4 BHK          591\n",
      "3 Bedroom      547\n",
      "1 BHK          538\n",
      "2 Bedroom      329\n",
      "5 Bedroom      297\n",
      "6 Bedroom      191\n",
      "1 Bedroom      105\n",
      "8 Bedroom       84\n",
      "7 Bedroom       83\n",
      "5 BHK           59\n",
      "9 Bedroom       46\n",
      "6 BHK           30\n",
      "7 BHK           17\n",
      "1 RK            13\n",
      "10 Bedroom      12\n",
      "9 BHK            8\n",
      "8 BHK            5\n",
      "11 Bedroom       2\n",
      "10 BHK           2\n",
      "11 BHK           2\n",
      "13 BHK           1\n",
      "12 Bedroom       1\n",
      "14 BHK           1\n",
      "19 BHK           1\n",
      "18 Bedroom       1\n",
      "16 BHK           1\n",
      "43 Bedroom       1\n",
      "27 BHK           1\n",
      "Name: size, dtype: int64\n",
      "society ==>  GrrvaGr    80\n",
      "PrarePa    76\n",
      "Sryalan    59\n",
      "Prtates    59\n",
      "GMown E    56\n",
      "Prtanha    51\n",
      "Bhmesy     51\n",
      "Prityel    50\n",
      "Prarkun    49\n",
      "PrityTr    49\n",
      "Dhalsh     47\n",
      "IBityin    45\n",
      "SNity S    40\n",
      "Soresea    39\n",
      "Adeatlm    37\n",
      "Soitya     36\n",
      "Rosha I    35\n",
      "Bhe 2ko    35\n",
      "SunceEs    34\n",
      "SNnia E    33\n",
      "JRrnauv    30\n",
      "MenueNo    29\n",
      "PuandHi    28\n",
      "Prlla C    28\n",
      "RothaVa    27\n",
      "Prncyrn    27\n",
      "GoAirej    26\n",
      "Aklia R    26\n",
      "Puachal    26\n",
      "PhestOn    26\n",
      "           ..\n",
      "ThhtsV      1\n",
      "FoGemna     1\n",
      "IcudiMa     1\n",
      "MVnexde     1\n",
      "NDiteio     1\n",
      "MyigePr     1\n",
      "Ceral C     1\n",
      "KKersow     1\n",
      "Srcha S     1\n",
      "ALoraAu     1\n",
      "VDarmlo     1\n",
      "Crentt      1\n",
      "JDensar     1\n",
      "Sasicha     1\n",
      "Apinaa      1\n",
      "Siageal     1\n",
      "Sorta S     1\n",
      "Maisehi     1\n",
      "Prarat      1\n",
      "Puownm      1\n",
      "CalanGo     1\n",
      "BruntPa     1\n",
      "Hiowsi      1\n",
      "PrwarSa     1\n",
      "SaodsGr     1\n",
      "Trade E     1\n",
      "Cearkry     1\n",
      "Rakulai     1\n",
      "VaasaPr     1\n",
      "Bhncy V     1\n",
      "Name: society, Length: 2688, dtype: int64\n",
      "total_sqft ==>  1200               843\n",
      "1100               221\n",
      "1500               205\n",
      "2400               196\n",
      "600                180\n",
      "1000               172\n",
      "1350               133\n",
      "1050               123\n",
      "1300               117\n",
      "1250               114\n",
      "900                112\n",
      "1400               108\n",
      "1800               104\n",
      "1150               101\n",
      "1600               101\n",
      "1140                91\n",
      "2000                83\n",
      "1450                70\n",
      "1650                69\n",
      "800                 67\n",
      "3000                66\n",
      "1075                66\n",
      "1020                63\n",
      "2500                62\n",
      "1550                60\n",
      "1125                60\n",
      "1160                60\n",
      "950                 59\n",
      "1700                58\n",
      "1180                58\n",
      "                  ... \n",
      "2162                 1\n",
      "1604                 1\n",
      "1525.84              1\n",
      "1300 - 1405          1\n",
      "7400                 1\n",
      "151.11Sq. Yards      1\n",
      "1337                 1\n",
      "650 - 760            1\n",
      "10200                1\n",
      "385 - 440            1\n",
      "866                  1\n",
      "2646                 1\n",
      "804.1                1\n",
      "1452.55              1\n",
      "4075                 1\n",
      "2597                 1\n",
      "783 - 943            1\n",
      "942 - 1117           1\n",
      "633 - 666            1\n",
      "2792                 1\n",
      "4723                 1\n",
      "3369 - 3464          1\n",
      "1932                 1\n",
      "2122                 1\n",
      "1766                 1\n",
      "3815                 1\n",
      "2270                 1\n",
      "3410                 1\n",
      "581                  1\n",
      "1215 - 1495          1\n",
      "Name: total_sqft, Length: 2117, dtype: int64\n"
     ]
    }
   ],
   "source": [
    "for name in df.dtypes[df.dtypes=='object'].index:\n",
    "    print(name, '==> ',df[name].value_counts())"
   ]
  },
  {
   "cell_type": "markdown",
   "metadata": {},
   "source": [
    "### Distributions"
   ]
  },
  {
   "cell_type": "code",
   "execution_count": 10,
   "metadata": {},
   "outputs": [
    {
     "data": {
      "image/png": "[encoded data removed]",
      "text/plain": [
       "<matplotlib.figure.Figure at 0xb29f940>"
      ]
     },
     "metadata": {},
     "output_type": "display_data"
    }
   ],
   "source": [
    "df.hist(figsize=(10,10), xrot=-45)\n",
    "plt.show()"
   ]
  },
  {
   "cell_type": "code",
   "execution_count": 11,
   "metadata": {},
   "outputs": [
    {
     "data": {
      "image/png": "[encoded data removed]",
      "text/plain": [
       "<matplotlib.figure.Figure at 0xbac7358>"
      ]
     },
     "metadata": {},
     "output_type": "display_data"
    }
   ],
   "source": [
    "sns.countplot(y='size',data=df)\n",
    "plt.show()"
   ]
  },
  {
   "cell_type": "markdown",
   "metadata": {},
   "source": [
    "### Feature Relationship - Segmentation & Correlations"
   ]
  },
  {
   "cell_type": "code",
   "execution_count": 12,
   "metadata": {},
   "outputs": [
    {
     "data": {
      "text/html": [
       "<div>\n",
       "<style scoped>\n",
       "    .dataframe tbody tr th:only-of-type {\n",
       "        vertical-align: middle;\n",
       "    }\n",
       "\n",
       "    .dataframe tbody tr th {\n",
       "        vertical-align: top;\n",
       "    }\n",
       "\n",
       "    .dataframe thead th {\n",
       "        text-align: right;\n",
       "    }\n",
       "</style>\n",
       "<table border=\"1\" class=\"dataframe\">\n",
       "  <thead>\n",
       "    <tr style=\"text-align: right;\">\n",
       "      <th></th>\n",
       "      <th>bath</th>\n",
       "      <th>balcony</th>\n",
       "      <th>price</th>\n",
       "    </tr>\n",
       "  </thead>\n",
       "  <tbody>\n",
       "    <tr>\n",
       "      <th>bath</th>\n",
       "      <td>1.000000</td>\n",
       "      <td>0.204201</td>\n",
       "      <td>0.456345</td>\n",
       "    </tr>\n",
       "    <tr>\n",
       "      <th>balcony</th>\n",
       "      <td>0.204201</td>\n",
       "      <td>1.000000</td>\n",
       "      <td>0.120355</td>\n",
       "    </tr>\n",
       "    <tr>\n",
       "      <th>price</th>\n",
       "      <td>0.456345</td>\n",
       "      <td>0.120355</td>\n",
       "      <td>1.000000</td>\n",
       "    </tr>\n",
       "  </tbody>\n",
       "</table>\n",
       "</div>"
      ],
      "text/plain": [
       "             bath   balcony     price\n",
       "bath     1.000000  0.204201  0.456345\n",
       "balcony  0.204201  1.000000  0.120355\n",
       "price    0.456345  0.120355  1.000000"
      ]
     },
     "execution_count": 12,
     "metadata": {},
     "output_type": "execute_result"
    }
   ],
   "source": [
    "correlations = df.corr()\n",
    "correlations"
   ]
  },
  {
   "cell_type": "code",
   "execution_count": 13,
   "metadata": {},
   "outputs": [
    {
     "data": {
      "text/plain": [
       "<matplotlib.axes._subplots.AxesSubplot at 0xb9aa0f0>"
      ]
     },
     "execution_count": 13,
     "metadata": {},
     "output_type": "execute_result"
    },
    {
     "data": {
      "image/png": "[encoded data removed]",
      "text/plain": [
       "<matplotlib.figure.Figure at 0xb9b6438>"
      ]
     },
     "metadata": {},
     "output_type": "display_data"
    }
   ],
   "source": [
    "plt.figure(figsize=(7,6))\n",
    "sns.heatmap(correlations,annot=True,cmap='RdBu_r')"
   ]
  },
  {
   "cell_type": "markdown",
   "metadata": {},
   "source": [
    "## Data Cleaning"
   ]
  },
  {
   "cell_type": "code",
   "execution_count": 14,
   "metadata": {},
   "outputs": [
    {
     "data": {
      "text/plain": [
       "(13320, 9)"
      ]
     },
     "execution_count": 14,
     "metadata": {},
     "output_type": "execute_result"
    }
   ],
   "source": [
    "df.shape"
   ]
  },
  {
   "cell_type": "markdown",
   "metadata": {},
   "source": [
    "### Drop Unwanted Observations"
   ]
  },
  {
   "cell_type": "code",
   "execution_count": 15,
   "metadata": {},
   "outputs": [
    {
     "data": {
      "text/plain": [
       "(12791, 9)"
      ]
     },
     "execution_count": 15,
     "metadata": {},
     "output_type": "execute_result"
    }
   ],
   "source": [
    "df = df.drop_duplicates()\n",
    "df.shape"
   ]
  },
  {
   "cell_type": "markdown",
   "metadata": {},
   "source": [
    "### Handling Missing Values"
   ]
  },
  {
   "cell_type": "code",
   "execution_count": 16,
   "metadata": {},
   "outputs": [
    {
     "data": {
      "text/plain": [
       "area_type          0\n",
       "availability       0\n",
       "location           1\n",
       "size              16\n",
       "society         5328\n",
       "total_sqft         0\n",
       "bath              73\n",
       "balcony          605\n",
       "price              0\n",
       "dtype: int64"
      ]
     },
     "execution_count": 16,
     "metadata": {},
     "output_type": "execute_result"
    }
   ],
   "source": [
    "df.isnull().sum()"
   ]
  },
  {
   "cell_type": "code",
   "execution_count": 17,
   "metadata": {},
   "outputs": [
    {
     "data": {
      "text/plain": [
       "2.0    4846\n",
       "1.0    4700\n",
       "3.0    1630\n",
       "0.0    1010\n",
       "Name: balcony, dtype: int64"
      ]
     },
     "execution_count": 17,
     "metadata": {},
     "output_type": "execute_result"
    }
   ],
   "source": [
    "df.balcony.value_counts()"
   ]
  },
  {
   "cell_type": "code",
   "execution_count": 18,
   "metadata": {
    "collapsed": true
   },
   "outputs": [],
   "source": [
    "df.balcony.fillna(0, inplace=True)\n",
    "df.bath.fillna(0, inplace=True)\n",
    "df['size'].fillna('Missing',inplace=True)\n",
    "df['society'].fillna('Missing',inplace=True)\n",
    "df['location'].fillna('Missing',inplace=True)"
   ]
  },
  {
   "cell_type": "code",
   "execution_count": 19,
   "metadata": {},
   "outputs": [
    {
     "data": {
      "text/plain": [
       "area_type       0\n",
       "availability    0\n",
       "location        0\n",
       "size            0\n",
       "society         0\n",
       "total_sqft      0\n",
       "bath            0\n",
       "balcony         0\n",
       "price           0\n",
       "dtype: int64"
      ]
     },
     "execution_count": 19,
     "metadata": {},
     "output_type": "execute_result"
    }
   ],
   "source": [
    "df.isnull().sum()"
   ]
  },
  {
   "cell_type": "markdown",
   "metadata": {},
   "source": [
    "### Fix Structural Errors"
   ]
  },
  {
   "cell_type": "code",
   "execution_count": 20,
   "metadata": {},
   "outputs": [
    {
     "data": {
      "text/plain": [
       "2 BHK         4931\n",
       "3 BHK         4120\n",
       "4 Bedroom      824\n",
       "4 BHK          574\n",
       "3 Bedroom      535\n",
       "1 BHK          521\n",
       "2 Bedroom      314\n",
       "5 Bedroom      291\n",
       "6 Bedroom      191\n",
       "1 Bedroom      104\n",
       "8 Bedroom       84\n",
       "7 Bedroom       82\n",
       "5 BHK           59\n",
       "9 Bedroom       46\n",
       "6 BHK           30\n",
       "7 BHK           17\n",
       "Missing         16\n",
       "1 RK            13\n",
       "10 Bedroom      12\n",
       "9 BHK            8\n",
       "8 BHK            5\n",
       "10 BHK           2\n",
       "11 BHK           2\n",
       "11 Bedroom       2\n",
       "43 Bedroom       1\n",
       "13 BHK           1\n",
       "19 BHK           1\n",
       "12 Bedroom       1\n",
       "18 Bedroom       1\n",
       "16 BHK           1\n",
       "14 BHK           1\n",
       "27 BHK           1\n",
       "Name: size, dtype: int64"
      ]
     },
     "execution_count": 20,
     "metadata": {},
     "output_type": "execute_result"
    }
   ],
   "source": [
    "df['size'].value_counts()"
   ]
  },
  {
   "cell_type": "code",
   "execution_count": 78,
   "metadata": {
    "collapsed": true
   },
   "outputs": [],
   "source": [
    "df['size']=df['size'].str.replace('Bedroom', 'BHK')"
   ]
  },
  {
   "cell_type": "code",
   "execution_count": 22,
   "metadata": {},
   "outputs": [
    {
     "data": {
      "text/plain": [
       "2 BHK      5245\n",
       "3 BHK      4655\n",
       "4 BHK      1398\n",
       "1 BHK       625\n",
       "5 BHK       350\n",
       "6 BHK       221\n",
       "7 BHK        99\n",
       "8 BHK        89\n",
       "9 BHK        54\n",
       "Missing      16\n",
       "10 BHK       14\n",
       "1 RK         13\n",
       "11 BHK        4\n",
       "13 BHK        1\n",
       "43 BHK        1\n",
       "18 BHK        1\n",
       "16 BHK        1\n",
       "19 BHK        1\n",
       "12 BHK        1\n",
       "14 BHK        1\n",
       "27 BHK        1\n",
       "Name: size, dtype: int64"
      ]
     },
     "execution_count": 22,
     "metadata": {},
     "output_type": "execute_result"
    }
   ],
   "source": [
    "df['size'].value_counts()"
   ]
  },
  {
   "cell_type": "markdown",
   "metadata": {},
   "source": [
    "## Feature Engineering"
   ]
  },
  {
   "cell_type": "markdown",
   "metadata": {},
   "source": [
    "Creating new feature called **size_num**"
   ]
  },
  {
   "cell_type": "code",
   "execution_count": 23,
   "metadata": {
    "collapsed": true
   },
   "outputs": [],
   "source": [
    "df['size_num']=df['size'].str.replace('BHK', ' ')"
   ]
  },
  {
   "cell_type": "code",
   "execution_count": 24,
   "metadata": {
    "collapsed": true
   },
   "outputs": [],
   "source": [
    "df['size_num']=df['size_num'].str.replace('RK', '')\n",
    "df['size_num']=df['size_num'].str.replace('Missing', '0').astype(int)"
   ]
  },
  {
   "cell_type": "code",
   "execution_count": 25,
   "metadata": {},
   "outputs": [
    {
     "data": {
      "text/plain": [
       "2     5245\n",
       "3     4655\n",
       "4     1398\n",
       "1      638\n",
       "5      350\n",
       "6      221\n",
       "7       99\n",
       "8       89\n",
       "9       54\n",
       "0       16\n",
       "10      14\n",
       "11       4\n",
       "14       1\n",
       "19       1\n",
       "18       1\n",
       "27       1\n",
       "43       1\n",
       "12       1\n",
       "16       1\n",
       "13       1\n",
       "Name: size_num, dtype: int64"
      ]
     },
     "execution_count": 25,
     "metadata": {},
     "output_type": "execute_result"
    }
   ],
   "source": [
    "df['size_num'].value_counts()"
   ]
  },
  {
   "cell_type": "code",
   "execution_count": 26,
   "metadata": {},
   "outputs": [
    {
     "data": {
      "text/plain": [
       "area_type        object\n",
       "availability     object\n",
       "location         object\n",
       "size             object\n",
       "society          object\n",
       "total_sqft       object\n",
       "bath            float64\n",
       "balcony         float64\n",
       "price           float64\n",
       "size_num          int32\n",
       "dtype: object"
      ]
     },
     "execution_count": 26,
     "metadata": {},
     "output_type": "execute_result"
    }
   ],
   "source": [
    "df.dtypes"
   ]
  },
  {
   "cell_type": "markdown",
   "metadata": {},
   "source": [
    "** Creating two new features for total_sqft because some observations are having the range(min sqft - max sqft) **\n",
    "    * total_sqft_min contains minimium value\n",
    "    * total_sqft_max contains maximium value"
   ]
  },
  {
   "cell_type": "code",
   "execution_count": 27,
   "metadata": {
    "collapsed": true
   },
   "outputs": [],
   "source": [
    "import re\n",
    "t_min = []\n",
    "t_max = []\n",
    "#text = '\\w* - \\w'\n",
    "for value in df.total_sqft:\n",
    "    #print(value)\n",
    "    if re.search('-', value):\n",
    "        min, max = value.split('-')\n",
    "        t_min.append(float(min))\n",
    "        t_max.append(float(max))\n",
    "        #print(value, 'yes')\n",
    "    else:\n",
    "        t_min.append(0)\n",
    "        t_max.append(value)\n",
    "        #print(value, 'No')\n",
    "        "
   ]
  },
  {
   "cell_type": "code",
   "execution_count": 28,
   "metadata": {},
   "outputs": [
    {
     "name": "stdout",
     "output_type": "stream",
     "text": [
      "12791 12791\n"
     ]
    }
   ],
   "source": [
    "print(len(t_min),len(t_max))"
   ]
  },
  {
   "cell_type": "code",
   "execution_count": 29,
   "metadata": {
    "collapsed": true
   },
   "outputs": [],
   "source": [
    "df['total_sqft_min'] = t_min\n",
    "df['total_sqft_max'] = t_max"
   ]
  },
  {
   "cell_type": "code",
   "execution_count": 30,
   "metadata": {
    "collapsed": true
   },
   "outputs": [],
   "source": [
    "t_max_conv = []\n",
    "\n",
    "for value in df.total_sqft_max:\n",
    "    if re.search(\"Sq. M\", str(value)):\n",
    "        num, unit = value.split('Sq.')\n",
    "        num = 10.7639 * float(num)\n",
    "        t_max_conv.append(np.round(float(num),2))\n",
    "    elif re.search('Sq. Y', str(value)):\n",
    "        num, unit = value.split('Sq.')\n",
    "        num = 9 * float(num)\n",
    "        t_max_conv.append(np.round(float(num),2))\n",
    "    elif re.search('Ac', str(value)):\n",
    "        num, unit = value.split('Ac')\n",
    "        num = 43560 * float(num)\n",
    "        t_max_conv.append(np.round(float(num),2))\n",
    "    elif re.search('Pe', str(value)) or re.search('Cents', str(value)) or re.search('G', str(value)):\n",
    "        value = re.findall(r'(\\d+)(\\w+?)', value)[0][0]\n",
    "        t_max_conv.append(float(value) )\n",
    "    else:\n",
    "        t_max_conv.append(float(value))"
   ]
  },
  {
   "cell_type": "code",
   "execution_count": 31,
   "metadata": {
    "collapsed": true
   },
   "outputs": [],
   "source": [
    "df['total_sqft_max'] = t_max_conv"
   ]
  },
  {
   "cell_type": "code",
   "execution_count": 32,
   "metadata": {},
   "outputs": [
    {
     "data": {
      "text/plain": [
       "area_type          object\n",
       "availability       object\n",
       "location           object\n",
       "size               object\n",
       "society            object\n",
       "total_sqft         object\n",
       "bath              float64\n",
       "balcony           float64\n",
       "price             float64\n",
       "size_num            int32\n",
       "total_sqft_min    float64\n",
       "total_sqft_max    float64\n",
       "dtype: object"
      ]
     },
     "execution_count": 32,
     "metadata": {},
     "output_type": "execute_result"
    }
   ],
   "source": [
    "df.dtypes"
   ]
  },
  {
   "cell_type": "code",
   "execution_count": 33,
   "metadata": {},
   "outputs": [
    {
     "data": {
      "text/plain": [
       "2 BHK      5245\n",
       "3 BHK      4655\n",
       "4 BHK      1398\n",
       "1 BHK       625\n",
       "5 BHK       350\n",
       "6 BHK       221\n",
       "7 BHK        99\n",
       "8 BHK        89\n",
       "9 BHK        54\n",
       "Missing      16\n",
       "10 BHK       14\n",
       "1 RK         13\n",
       "11 BHK        4\n",
       "13 BHK        1\n",
       "43 BHK        1\n",
       "18 BHK        1\n",
       "16 BHK        1\n",
       "19 BHK        1\n",
       "12 BHK        1\n",
       "14 BHK        1\n",
       "27 BHK        1\n",
       "Name: size, dtype: int64"
      ]
     },
     "execution_count": 33,
     "metadata": {},
     "output_type": "execute_result"
    }
   ],
   "source": [
    "df['size'].value_counts()"
   ]
  },
  {
   "cell_type": "code",
   "execution_count": 34,
   "metadata": {},
   "outputs": [
    {
     "name": "stdout",
     "output_type": "stream",
     "text": [
      "Whitefield                                  523\n",
      "Sarjapur  Road                              379\n",
      "Electronic City                             287\n",
      "Kanakpura Road                              249\n",
      "Thanisandra                                 229\n",
      "Yelahanka                                   210\n",
      "Marathahalli                                169\n",
      "Hebbal                                      161\n",
      "Raja Rajeshwari Nagar                       159\n",
      "Uttarahalli                                 157\n",
      "Hennur Road                                 149\n",
      "Bannerghatta Road                           149\n",
      "7th Phase JP Nagar                          135\n",
      "Electronic City Phase II                    128\n",
      "Rajaji Nagar                                107\n",
      "Haralur Road                                102\n",
      "Bellandur                                    93\n",
      "KR Puram                                     91\n",
      "Hoodi                                        88\n",
      "Electronics City Phase 1                     88\n",
      "Yeshwanthpur                                 83\n",
      "Sarjapur                                     82\n",
      "Chandapura                                   82\n",
      "Kasavanhalli                                 79\n",
      "Harlur                                       77\n",
      "Begur Road                                   74\n",
      "Kengeri                                      73\n",
      "Hormavu                                      73\n",
      "Ramamurthy Nagar                             72\n",
      "Banashankari                                 72\n",
      "                                           ... \n",
      "Viswapriyanagar.begur Road.bommanahalli.      1\n",
      "Maruthi Layout                                1\n",
      "K R C kothanur                                1\n",
      "Tilak Nagar                                   1\n",
      "Bhattarahalli                                 1\n",
      "Handenahalli                                  1\n",
      "Off Sarjapur road,                            1\n",
      "Zuzuvadi                                      1\n",
      "kanakapura main road                          1\n",
      "Meenakshi Layout                              1\n",
      "Mukkutam Nagar                                1\n",
      "Michael Palaya                                1\n",
      "Wheelers Road                                 1\n",
      "Binny Mills Employees Colony                  1\n",
      "Shakthi Nagar                                 1\n",
      "Hosahalli                                     1\n",
      "Chikbasavanapura                              1\n",
      "Brigade Road                                  1\n",
      "Chikkanahalli                                 1\n",
      "Escorts Colony                                1\n",
      "1Hanuman Nagar                                1\n",
      "Bande Nallasandra                             1\n",
      "Vidya Nagar                                   1\n",
      "Annasandrapalya                               1\n",
      "Vidhyanagar Cross                             1\n",
      "white field,kadugodi                          1\n",
      "Gangondanahalli                               1\n",
      "Sarvobhogam Nagar                             1\n",
      "Venkateswara Nagar                            1\n",
      "Chikkagubbi                                   1\n",
      "Name: location, Length: 1306, dtype: int64\n"
     ]
    }
   ],
   "source": [
    "print(df.location.value_counts())"
   ]
  },
  {
   "cell_type": "code",
   "execution_count": 35,
   "metadata": {},
   "outputs": [
    {
     "data": {
      "text/plain": [
       "array(['12/19/2019', 'Ready To Move', '5/18/2019', '2/18/2019',\n",
       "       '11/18/2019', '12/20/2019', '10/17/2019', '12/21/2019', '9/19/2019',\n",
       "       '9/20/2019', '3/18/2019', '2/20/2019', '4/18/2019', '8/20/2019',\n",
       "       '10/18/2019', '3/19/2019', '9/17/2019', '12/18/2019', '8/17/2019',\n",
       "       '4/19/2019', '6/18/2019', '12/22/2019', '1/22/2019', '8/18/2019',\n",
       "       '1/19/2019', '7/17/2019', '7/18/2019', '6/21/2019', '5/20/2019',\n",
       "       '8/19/2019', '9/18/2019', '5/17/2019', '6/17/2019', '5/21/2019',\n",
       "       '1/18/2019', '3/20/2019', '12/17/2019', '3/16/2019', '6/19/2019',\n",
       "       '6/22/2019', '7/19/2019', '2/21/2019', 'Immediate Possession',\n",
       "       '5/19/2019', '11/17/2019', '10/20/2019', '6/20/2019', '2/19/2019',\n",
       "       '10/21/2019', '1/21/2019', '3/17/2019', '4/17/2019', '5/22/2019',\n",
       "       '10/19/2019', '7/21/2019', '11/21/2019', '3/21/2019', '12/16/2019',\n",
       "       '3/22/2019', '1/20/2019', '9/21/2019', '8/21/2019', '11/14/2019',\n",
       "       '11/19/2019', '11/15/2019', '7/16/2019', '6/15/2019', '2/17/2019',\n",
       "       '11/20/2019', '7/20/2019', '9/16/2019', '10/15/2019', '12/15/2019',\n",
       "       '10/16/2019', '11/22/2019', '8/15/2019', '1/17/2019', '11/16/2019',\n",
       "       '4/20/2019', '1/16/2019', '7/14/2019'], dtype=object)"
      ]
     },
     "execution_count": 35,
     "metadata": {},
     "output_type": "execute_result"
    }
   ],
   "source": [
    "df.availability.unique()"
   ]
  },
  {
   "cell_type": "code",
   "execution_count": 36,
   "metadata": {},
   "outputs": [
    {
     "data": {
      "text/plain": [
       "Ready To Move           10172\n",
       "5/18/2019                 292\n",
       "12/18/2019                284\n",
       "4/18/2019                 269\n",
       "8/18/2019                 187\n",
       "12/19/2019                176\n",
       "7/18/2019                 131\n",
       "3/18/2019                 130\n",
       "6/18/2019                  98\n",
       "12/20/2019                 94\n",
       "3/19/2019                  85\n",
       "12/21/2019                 79\n",
       "2/18/2019                  62\n",
       "11/18/2019                 45\n",
       "1/18/2019                  43\n",
       "10/18/2019                 39\n",
       "6/19/2019                  35\n",
       "7/19/2019                  34\n",
       "9/18/2019                  33\n",
       "1/19/2019                  32\n",
       "12/17/2019                 29\n",
       "10/17/2019                 21\n",
       "9/19/2019                  20\n",
       "6/22/2019                  19\n",
       "1/20/2019                  18\n",
       "8/19/2019                  18\n",
       "6/21/2019                  17\n",
       "Immediate Possession       16\n",
       "4/19/2019                  16\n",
       "8/20/2019                  16\n",
       "                        ...  \n",
       "11/19/2019                  6\n",
       "2/21/2019                   6\n",
       "7/20/2019                   5\n",
       "3/17/2019                   5\n",
       "8/21/2019                   5\n",
       "5/20/2019                   4\n",
       "11/20/2019                  4\n",
       "4/20/2019                   4\n",
       "12/16/2019                  4\n",
       "11/21/2019                  3\n",
       "2/19/2019                   3\n",
       "3/16/2019                   3\n",
       "3/22/2019                   3\n",
       "10/15/2019                  2\n",
       "11/15/2019                  2\n",
       "11/22/2019                  2\n",
       "9/16/2019                   2\n",
       "2/17/2019                   2\n",
       "2/20/2019                   2\n",
       "3/20/2019                   2\n",
       "1/17/2019                   1\n",
       "7/14/2019                   1\n",
       "8/15/2019                   1\n",
       "7/16/2019                   1\n",
       "10/16/2019                  1\n",
       "6/15/2019                   1\n",
       "11/14/2019                  1\n",
       "11/16/2019                  1\n",
       "1/16/2019                   1\n",
       "12/15/2019                  1\n",
       "Name: availability, Length: 81, dtype: int64"
      ]
     },
     "execution_count": 36,
     "metadata": {},
     "output_type": "execute_result"
    }
   ],
   "source": [
    "df.availability.value_counts()"
   ]
  },
  {
   "cell_type": "markdown",
   "metadata": {},
   "source": [
    "** Creating new feature called availability_days which shows the value as months **"
   ]
  },
  {
   "cell_type": "code",
   "execution_count": 37,
   "metadata": {
    "collapsed": true
   },
   "outputs": [],
   "source": [
    "from datetime import date\n",
    "\n",
    "days_indicator = []\n",
    "\n",
    "def d(s):\n",
    "  [month, day, year] = map(int, s.split('/'))\n",
    "  return date(year, month, day)\n",
    "  \n",
    "def days(start, end):\n",
    "  return (d(end) - d(start)).days\n",
    "  \n",
    "\n",
    "for value in df.availability:\n",
    "    if re.search('/', value):\n",
    "        date_only = date.today()\n",
    "        dt = datetime.datetime.strptime(str(date_only), '%Y-%m-%d').strftime('%m/%d/%Y')\n",
    "\n",
    "        days_indicator.append(days(dt, value))\n",
    "    else:\n",
    "        days_indicator.append(value)\n"
   ]
  },
  {
   "cell_type": "code",
   "execution_count": 38,
   "metadata": {
    "collapsed": true
   },
   "outputs": [],
   "source": [
    "df['availability_days']=days_indicator\n"
   ]
  },
  {
   "cell_type": "code",
   "execution_count": 39,
   "metadata": {},
   "outputs": [
    {
     "name": "stdout",
     "output_type": "stream",
     "text": [
      "min_days -  -106 max_days -  234\n"
     ]
    }
   ],
   "source": [
    "filter_imme = df['availability_days']!='Immediate Possession'\n",
    "filter_ready = df['availability_days']!='Ready To Move'\n",
    "max_days = df['availability_days'][(filter_imme) & (filter_ready)].max()\n",
    "min_days = df['availability_days'][(filter_imme) & (filter_ready)].min()\n",
    "print('min_days - ',min_days,'max_days - ',max_days)"
   ]
  },
  {
   "cell_type": "code",
   "execution_count": 40,
   "metadata": {},
   "outputs": [
    {
     "data": {
      "text/plain": [
       "10172"
      ]
     },
     "execution_count": 40,
     "metadata": {},
     "output_type": "execute_result"
    }
   ],
   "source": [
    "df['availability_days'][df['availability_days']=='Ready To Move'].count()"
   ]
  },
  {
   "cell_type": "code",
   "execution_count": 41,
   "metadata": {
    "collapsed": true
   },
   "outputs": [],
   "source": [
    "df.availability_days.replace('Immediate Possession',max_days+1, inplace=True)\n",
    "df.availability_days.replace('Ready To Move',max_days+2, inplace=True)"
   ]
  },
  {
   "cell_type": "code",
   "execution_count": 42,
   "metadata": {
    "collapsed": true
   },
   "outputs": [],
   "source": [
    "def process_months(df, cut_points,label_names):\n",
    "    df['aval_categories'] = pd.cut(df['availability_days'],cut_points,labels=label_names)\n",
    "    return df"
   ]
  },
  {
   "cell_type": "code",
   "execution_count": 43,
   "metadata": {
    "collapsed": true
   },
   "outputs": [],
   "source": [
    "cut_points = [min_days-1,0,30,60,90,120,150,180,210,max_days,max_days+1,max_days+2]\n",
    "label_names = ['NegativeMonths','1month','2months','3months','4months','5months','6months','7months','morethan7months',\n",
    "'Immediate Possession','Ready To Move']\n",
    "\n",
    "df = process_months(df,cut_points,label_names)"
   ]
  },
  {
   "cell_type": "code",
   "execution_count": 44,
   "metadata": {},
   "outputs": [
    {
     "data": {
      "text/plain": [
       "Ready To Move           10172\n",
       "NegativeMonths            725\n",
       "morethan7months           678\n",
       "1month                    335\n",
       "4months                   236\n",
       "2months                   193\n",
       "3months                   192\n",
       "6months                    90\n",
       "5months                    78\n",
       "7months                    76\n",
       "Immediate Possession       16\n",
       "Name: aval_categories, dtype: int64"
      ]
     },
     "execution_count": 44,
     "metadata": {},
     "output_type": "execute_result"
    }
   ],
   "source": [
    "df['aval_categories'].value_counts()"
   ]
  },
  {
   "cell_type": "code",
   "execution_count": 48,
   "metadata": {
    "collapsed": true
   },
   "outputs": [],
   "source": [
    "location_encoder = LabelEncoder()\n",
    "df['society'] = location_encoder.fit_transform(df['society'])\n",
    "df['location'] = location_encoder.fit_transform(df['location'])"
   ]
  },
  {
   "cell_type": "code",
   "execution_count": 49,
   "metadata": {},
   "outputs": [
    {
     "data": {
      "text/plain": [
       "area_type            0\n",
       "availability         0\n",
       "location             0\n",
       "size                 0\n",
       "society              0\n",
       "total_sqft           0\n",
       "bath                 0\n",
       "balcony              0\n",
       "price                0\n",
       "size_num             0\n",
       "total_sqft_min       0\n",
       "total_sqft_max       0\n",
       "availability_days    0\n",
       "aval_categories      0\n",
       "dtype: int64"
      ]
     },
     "execution_count": 49,
     "metadata": {},
     "output_type": "execute_result"
    }
   ],
   "source": [
    "df.isnull().sum()"
   ]
  },
  {
   "cell_type": "code",
   "execution_count": 51,
   "metadata": {
    "collapsed": true
   },
   "outputs": [],
   "source": [
    "def create_dummies(df,column_names):\n",
    "    dummies = pd.get_dummies(df[column_names],prefix=column_names)\n",
    "    df = pd.concat([df,dummies],axis=1)\n",
    "    return df"
   ]
  },
  {
   "cell_type": "code",
   "execution_count": 52,
   "metadata": {
    "collapsed": true
   },
   "outputs": [],
   "source": [
    "columns = ['area_type','aval_categories']\n",
    "df = create_dummies(df,columns)"
   ]
  },
  {
   "cell_type": "code",
   "execution_count": 53,
   "metadata": {},
   "outputs": [
    {
     "data": {
      "text/html": [
       "<div>\n",
       "<style scoped>\n",
       "    .dataframe tbody tr th:only-of-type {\n",
       "        vertical-align: middle;\n",
       "    }\n",
       "\n",
       "    .dataframe tbody tr th {\n",
       "        vertical-align: top;\n",
       "    }\n",
       "\n",
       "    .dataframe thead th {\n",
       "        text-align: right;\n",
       "    }\n",
       "</style>\n",
       "<table border=\"1\" class=\"dataframe\">\n",
       "  <thead>\n",
       "    <tr style=\"text-align: right;\">\n",
       "      <th></th>\n",
       "      <th>area_type</th>\n",
       "      <th>availability</th>\n",
       "      <th>location</th>\n",
       "      <th>size</th>\n",
       "      <th>society</th>\n",
       "      <th>total_sqft</th>\n",
       "      <th>bath</th>\n",
       "      <th>balcony</th>\n",
       "      <th>price</th>\n",
       "      <th>size_num</th>\n",
       "      <th>total_sqft_min</th>\n",
       "      <th>total_sqft_max</th>\n",
       "      <th>availability_days</th>\n",
       "      <th>aval_categories</th>\n",
       "      <th>area_type_Built-up  Area</th>\n",
       "      <th>area_type_Carpet  Area</th>\n",
       "      <th>area_type_Plot  Area</th>\n",
       "      <th>area_type_Super built-up  Area</th>\n",
       "      <th>aval_categories_NegativeMonths</th>\n",
       "      <th>aval_categories_1month</th>\n",
       "      <th>aval_categories_2months</th>\n",
       "      <th>aval_categories_3months</th>\n",
       "      <th>aval_categories_4months</th>\n",
       "      <th>aval_categories_5months</th>\n",
       "      <th>aval_categories_6months</th>\n",
       "      <th>aval_categories_7months</th>\n",
       "      <th>aval_categories_morethan7months</th>\n",
       "      <th>aval_categories_Immediate Possession</th>\n",
       "      <th>aval_categories_Ready To Move</th>\n",
       "    </tr>\n",
       "  </thead>\n",
       "  <tbody>\n",
       "    <tr>\n",
       "      <th>0</th>\n",
       "      <td>Super built-up  Area</td>\n",
       "      <td>12/19/2019</td>\n",
       "      <td>419</td>\n",
       "      <td>2 BHK</td>\n",
       "      <td>464</td>\n",
       "      <td>1056</td>\n",
       "      <td>2.0</td>\n",
       "      <td>1.0</td>\n",
       "      <td>39.07</td>\n",
       "      <td>2</td>\n",
       "      <td>0.0</td>\n",
       "      <td>1056.0</td>\n",
       "      <td>231</td>\n",
       "      <td>morethan7months</td>\n",
       "      <td>0</td>\n",
       "      <td>0</td>\n",
       "      <td>0</td>\n",
       "      <td>1</td>\n",
       "      <td>0</td>\n",
       "      <td>0</td>\n",
       "      <td>0</td>\n",
       "      <td>0</td>\n",
       "      <td>0</td>\n",
       "      <td>0</td>\n",
       "      <td>0</td>\n",
       "      <td>0</td>\n",
       "      <td>1</td>\n",
       "      <td>0</td>\n",
       "      <td>0</td>\n",
       "    </tr>\n",
       "    <tr>\n",
       "      <th>1</th>\n",
       "      <td>Plot  Area</td>\n",
       "      <td>Ready To Move</td>\n",
       "      <td>317</td>\n",
       "      <td>4 BHK</td>\n",
       "      <td>2440</td>\n",
       "      <td>2600</td>\n",
       "      <td>5.0</td>\n",
       "      <td>3.0</td>\n",
       "      <td>120.00</td>\n",
       "      <td>4</td>\n",
       "      <td>0.0</td>\n",
       "      <td>2600.0</td>\n",
       "      <td>236</td>\n",
       "      <td>Ready To Move</td>\n",
       "      <td>0</td>\n",
       "      <td>0</td>\n",
       "      <td>1</td>\n",
       "      <td>0</td>\n",
       "      <td>0</td>\n",
       "      <td>0</td>\n",
       "      <td>0</td>\n",
       "      <td>0</td>\n",
       "      <td>0</td>\n",
       "      <td>0</td>\n",
       "      <td>0</td>\n",
       "      <td>0</td>\n",
       "      <td>0</td>\n",
       "      <td>0</td>\n",
       "      <td>1</td>\n",
       "    </tr>\n",
       "    <tr>\n",
       "      <th>2</th>\n",
       "      <td>Built-up  Area</td>\n",
       "      <td>Ready To Move</td>\n",
       "      <td>1180</td>\n",
       "      <td>3 BHK</td>\n",
       "      <td>1306</td>\n",
       "      <td>1440</td>\n",
       "      <td>2.0</td>\n",
       "      <td>3.0</td>\n",
       "      <td>62.00</td>\n",
       "      <td>3</td>\n",
       "      <td>0.0</td>\n",
       "      <td>1440.0</td>\n",
       "      <td>236</td>\n",
       "      <td>Ready To Move</td>\n",
       "      <td>1</td>\n",
       "      <td>0</td>\n",
       "      <td>0</td>\n",
       "      <td>0</td>\n",
       "      <td>0</td>\n",
       "      <td>0</td>\n",
       "      <td>0</td>\n",
       "      <td>0</td>\n",
       "      <td>0</td>\n",
       "      <td>0</td>\n",
       "      <td>0</td>\n",
       "      <td>0</td>\n",
       "      <td>0</td>\n",
       "      <td>0</td>\n",
       "      <td>1</td>\n",
       "    </tr>\n",
       "    <tr>\n",
       "      <th>3</th>\n",
       "      <td>Super built-up  Area</td>\n",
       "      <td>Ready To Move</td>\n",
       "      <td>757</td>\n",
       "      <td>3 BHK</td>\n",
       "      <td>2187</td>\n",
       "      <td>1521</td>\n",
       "      <td>3.0</td>\n",
       "      <td>1.0</td>\n",
       "      <td>95.00</td>\n",
       "      <td>3</td>\n",
       "      <td>0.0</td>\n",
       "      <td>1521.0</td>\n",
       "      <td>236</td>\n",
       "      <td>Ready To Move</td>\n",
       "      <td>0</td>\n",
       "      <td>0</td>\n",
       "      <td>0</td>\n",
       "      <td>1</td>\n",
       "      <td>0</td>\n",
       "      <td>0</td>\n",
       "      <td>0</td>\n",
       "      <td>0</td>\n",
       "      <td>0</td>\n",
       "      <td>0</td>\n",
       "      <td>0</td>\n",
       "      <td>0</td>\n",
       "      <td>0</td>\n",
       "      <td>0</td>\n",
       "      <td>1</td>\n",
       "    </tr>\n",
       "    <tr>\n",
       "      <th>4</th>\n",
       "      <td>Super built-up  Area</td>\n",
       "      <td>Ready To Move</td>\n",
       "      <td>716</td>\n",
       "      <td>2 BHK</td>\n",
       "      <td>1306</td>\n",
       "      <td>1200</td>\n",
       "      <td>2.0</td>\n",
       "      <td>1.0</td>\n",
       "      <td>51.00</td>\n",
       "      <td>2</td>\n",
       "      <td>0.0</td>\n",
       "      <td>1200.0</td>\n",
       "      <td>236</td>\n",
       "      <td>Ready To Move</td>\n",
       "      <td>0</td>\n",
       "      <td>0</td>\n",
       "      <td>0</td>\n",
       "      <td>1</td>\n",
       "      <td>0</td>\n",
       "      <td>0</td>\n",
       "      <td>0</td>\n",
       "      <td>0</td>\n",
       "      <td>0</td>\n",
       "      <td>0</td>\n",
       "      <td>0</td>\n",
       "      <td>0</td>\n",
       "      <td>0</td>\n",
       "      <td>0</td>\n",
       "      <td>1</td>\n",
       "    </tr>\n",
       "  </tbody>\n",
       "</table>\n",
       "</div>"
      ],
      "text/plain": [
       "              area_type   availability  location   size  society total_sqft  \\\n",
       "0  Super built-up  Area     12/19/2019       419  2 BHK      464       1056   \n",
       "1            Plot  Area  Ready To Move       317  4 BHK     2440       2600   \n",
       "2        Built-up  Area  Ready To Move      1180  3 BHK     1306       1440   \n",
       "3  Super built-up  Area  Ready To Move       757  3 BHK     2187       1521   \n",
       "4  Super built-up  Area  Ready To Move       716  2 BHK     1306       1200   \n",
       "\n",
       "   bath  balcony   price  size_num  total_sqft_min  total_sqft_max  \\\n",
       "0   2.0      1.0   39.07         2             0.0          1056.0   \n",
       "1   5.0      3.0  120.00         4             0.0          2600.0   \n",
       "2   2.0      3.0   62.00         3             0.0          1440.0   \n",
       "3   3.0      1.0   95.00         3             0.0          1521.0   \n",
       "4   2.0      1.0   51.00         2             0.0          1200.0   \n",
       "\n",
       "   availability_days  aval_categories  area_type_Built-up  Area  \\\n",
       "0                231  morethan7months                         0   \n",
       "1                236    Ready To Move                         0   \n",
       "2                236    Ready To Move                         1   \n",
       "3                236    Ready To Move                         0   \n",
       "4                236    Ready To Move                         0   \n",
       "\n",
       "   area_type_Carpet  Area  area_type_Plot  Area  \\\n",
       "0                       0                     0   \n",
       "1                       0                     1   \n",
       "2                       0                     0   \n",
       "3                       0                     0   \n",
       "4                       0                     0   \n",
       "\n",
       "   area_type_Super built-up  Area  aval_categories_NegativeMonths  \\\n",
       "0                               1                               0   \n",
       "1                               0                               0   \n",
       "2                               0                               0   \n",
       "3                               1                               0   \n",
       "4                               1                               0   \n",
       "\n",
       "   aval_categories_1month  aval_categories_2months  aval_categories_3months  \\\n",
       "0                       0                        0                        0   \n",
       "1                       0                        0                        0   \n",
       "2                       0                        0                        0   \n",
       "3                       0                        0                        0   \n",
       "4                       0                        0                        0   \n",
       "\n",
       "   aval_categories_4months  aval_categories_5months  aval_categories_6months  \\\n",
       "0                        0                        0                        0   \n",
       "1                        0                        0                        0   \n",
       "2                        0                        0                        0   \n",
       "3                        0                        0                        0   \n",
       "4                        0                        0                        0   \n",
       "\n",
       "   aval_categories_7months  aval_categories_morethan7months  \\\n",
       "0                        0                                1   \n",
       "1                        0                                0   \n",
       "2                        0                                0   \n",
       "3                        0                                0   \n",
       "4                        0                                0   \n",
       "\n",
       "   aval_categories_Immediate Possession  aval_categories_Ready To Move  \n",
       "0                                     0                              0  \n",
       "1                                     0                              1  \n",
       "2                                     0                              1  \n",
       "3                                     0                              1  \n",
       "4                                     0                              1  "
      ]
     },
     "execution_count": 53,
     "metadata": {},
     "output_type": "execute_result"
    }
   ],
   "source": [
    "df.head()"
   ]
  },
  {
   "cell_type": "code",
   "execution_count": 54,
   "metadata": {},
   "outputs": [
    {
     "data": {
      "text/plain": [
       "(12791, 29)"
      ]
     },
     "execution_count": 54,
     "metadata": {},
     "output_type": "execute_result"
    }
   ],
   "source": [
    "df.shape"
   ]
  },
  {
   "cell_type": "code",
   "execution_count": 55,
   "metadata": {},
   "outputs": [
    {
     "data": {
      "text/plain": [
       "area_type                                 object\n",
       "availability                              object\n",
       "location                                   int64\n",
       "size                                      object\n",
       "society                                    int64\n",
       "total_sqft                                object\n",
       "bath                                     float64\n",
       "balcony                                  float64\n",
       "price                                    float64\n",
       "size_num                                   int32\n",
       "total_sqft_min                           float64\n",
       "total_sqft_max                           float64\n",
       "availability_days                          int64\n",
       "aval_categories                         category\n",
       "area_type_Built-up  Area                   uint8\n",
       "area_type_Carpet  Area                     uint8\n",
       "area_type_Plot  Area                       uint8\n",
       "area_type_Super built-up  Area             uint8\n",
       "aval_categories_NegativeMonths             uint8\n",
       "aval_categories_1month                     uint8\n",
       "aval_categories_2months                    uint8\n",
       "aval_categories_3months                    uint8\n",
       "aval_categories_4months                    uint8\n",
       "aval_categories_5months                    uint8\n",
       "aval_categories_6months                    uint8\n",
       "aval_categories_7months                    uint8\n",
       "aval_categories_morethan7months            uint8\n",
       "aval_categories_Immediate Possession       uint8\n",
       "aval_categories_Ready To Move              uint8\n",
       "dtype: object"
      ]
     },
     "execution_count": 55,
     "metadata": {},
     "output_type": "execute_result"
    }
   ],
   "source": [
    "df.dtypes"
   ]
  },
  {
   "cell_type": "code",
   "execution_count": 56,
   "metadata": {},
   "outputs": [
    {
     "data": {
      "text/plain": [
       "['location',\n",
       " 'society',\n",
       " 'bath',\n",
       " 'balcony',\n",
       " 'price',\n",
       " 'size_num',\n",
       " 'total_sqft_min',\n",
       " 'total_sqft_max',\n",
       " 'availability_days',\n",
       " 'aval_categories',\n",
       " 'area_type_Built-up  Area',\n",
       " 'area_type_Carpet  Area',\n",
       " 'area_type_Plot  Area',\n",
       " 'area_type_Super built-up  Area',\n",
       " 'aval_categories_NegativeMonths',\n",
       " 'aval_categories_1month',\n",
       " 'aval_categories_2months',\n",
       " 'aval_categories_3months',\n",
       " 'aval_categories_4months',\n",
       " 'aval_categories_5months',\n",
       " 'aval_categories_6months',\n",
       " 'aval_categories_7months',\n",
       " 'aval_categories_morethan7months',\n",
       " 'aval_categories_Immediate Possession',\n",
       " 'aval_categories_Ready To Move']"
      ]
     },
     "execution_count": 56,
     "metadata": {},
     "output_type": "execute_result"
    }
   ],
   "source": [
    "col_names = []\n",
    "for c_name in df.dtypes[df.dtypes!='object'].index:\n",
    "    col_names.append(c_name)\n",
    "    \n",
    "col_names"
   ]
  },
  {
   "cell_type": "markdown",
   "metadata": {},
   "source": [
    "## Prepare Analytical Base Table"
   ]
  },
  {
   "cell_type": "code",
   "execution_count": 57,
   "metadata": {
    "collapsed": true
   },
   "outputs": [],
   "source": [
    "abt_df = df[col_names]"
   ]
  },
  {
   "cell_type": "code",
   "execution_count": 58,
   "metadata": {},
   "outputs": [
    {
     "name": "stdout",
     "output_type": "stream",
     "text": [
      "12791\n"
     ]
    },
    {
     "data": {
      "text/plain": [
       "(12791,)"
      ]
     },
     "execution_count": 58,
     "metadata": {},
     "output_type": "execute_result"
    }
   ],
   "source": [
    "X = abt_df.drop(['price','aval_categories','availability_days'],axis=1)\n",
    "y = abt_df.price\n",
    "print(len(y))\n",
    "y.shape"
   ]
  },
  {
   "cell_type": "code",
   "execution_count": 59,
   "metadata": {},
   "outputs": [
    {
     "data": {
      "text/html": [
       "<div>\n",
       "<style scoped>\n",
       "    .dataframe tbody tr th:only-of-type {\n",
       "        vertical-align: middle;\n",
       "    }\n",
       "\n",
       "    .dataframe tbody tr th {\n",
       "        vertical-align: top;\n",
       "    }\n",
       "\n",
       "    .dataframe thead th {\n",
       "        text-align: right;\n",
       "    }\n",
       "</style>\n",
       "<table border=\"1\" class=\"dataframe\">\n",
       "  <thead>\n",
       "    <tr style=\"text-align: right;\">\n",
       "      <th></th>\n",
       "      <th>location</th>\n",
       "      <th>society</th>\n",
       "      <th>bath</th>\n",
       "      <th>balcony</th>\n",
       "      <th>size_num</th>\n",
       "      <th>total_sqft_min</th>\n",
       "      <th>total_sqft_max</th>\n",
       "      <th>area_type_Built-up  Area</th>\n",
       "      <th>area_type_Carpet  Area</th>\n",
       "      <th>area_type_Plot  Area</th>\n",
       "      <th>area_type_Super built-up  Area</th>\n",
       "      <th>aval_categories_NegativeMonths</th>\n",
       "      <th>aval_categories_1month</th>\n",
       "      <th>aval_categories_2months</th>\n",
       "      <th>aval_categories_3months</th>\n",
       "      <th>aval_categories_4months</th>\n",
       "      <th>aval_categories_5months</th>\n",
       "      <th>aval_categories_6months</th>\n",
       "      <th>aval_categories_7months</th>\n",
       "      <th>aval_categories_morethan7months</th>\n",
       "      <th>aval_categories_Immediate Possession</th>\n",
       "      <th>aval_categories_Ready To Move</th>\n",
       "    </tr>\n",
       "  </thead>\n",
       "  <tbody>\n",
       "    <tr>\n",
       "      <th>0</th>\n",
       "      <td>419</td>\n",
       "      <td>464</td>\n",
       "      <td>2.0</td>\n",
       "      <td>1.0</td>\n",
       "      <td>2</td>\n",
       "      <td>0.0</td>\n",
       "      <td>1056.0</td>\n",
       "      <td>0</td>\n",
       "      <td>0</td>\n",
       "      <td>0</td>\n",
       "      <td>1</td>\n",
       "      <td>0</td>\n",
       "      <td>0</td>\n",
       "      <td>0</td>\n",
       "      <td>0</td>\n",
       "      <td>0</td>\n",
       "      <td>0</td>\n",
       "      <td>0</td>\n",
       "      <td>0</td>\n",
       "      <td>1</td>\n",
       "      <td>0</td>\n",
       "      <td>0</td>\n",
       "    </tr>\n",
       "    <tr>\n",
       "      <th>1</th>\n",
       "      <td>317</td>\n",
       "      <td>2440</td>\n",
       "      <td>5.0</td>\n",
       "      <td>3.0</td>\n",
       "      <td>4</td>\n",
       "      <td>0.0</td>\n",
       "      <td>2600.0</td>\n",
       "      <td>0</td>\n",
       "      <td>0</td>\n",
       "      <td>1</td>\n",
       "      <td>0</td>\n",
       "      <td>0</td>\n",
       "      <td>0</td>\n",
       "      <td>0</td>\n",
       "      <td>0</td>\n",
       "      <td>0</td>\n",
       "      <td>0</td>\n",
       "      <td>0</td>\n",
       "      <td>0</td>\n",
       "      <td>0</td>\n",
       "      <td>0</td>\n",
       "      <td>1</td>\n",
       "    </tr>\n",
       "    <tr>\n",
       "      <th>2</th>\n",
       "      <td>1180</td>\n",
       "      <td>1306</td>\n",
       "      <td>2.0</td>\n",
       "      <td>3.0</td>\n",
       "      <td>3</td>\n",
       "      <td>0.0</td>\n",
       "      <td>1440.0</td>\n",
       "      <td>1</td>\n",
       "      <td>0</td>\n",
       "      <td>0</td>\n",
       "      <td>0</td>\n",
       "      <td>0</td>\n",
       "      <td>0</td>\n",
       "      <td>0</td>\n",
       "      <td>0</td>\n",
       "      <td>0</td>\n",
       "      <td>0</td>\n",
       "      <td>0</td>\n",
       "      <td>0</td>\n",
       "      <td>0</td>\n",
       "      <td>0</td>\n",
       "      <td>1</td>\n",
       "    </tr>\n",
       "    <tr>\n",
       "      <th>3</th>\n",
       "      <td>757</td>\n",
       "      <td>2187</td>\n",
       "      <td>3.0</td>\n",
       "      <td>1.0</td>\n",
       "      <td>3</td>\n",
       "      <td>0.0</td>\n",
       "      <td>1521.0</td>\n",
       "      <td>0</td>\n",
       "      <td>0</td>\n",
       "      <td>0</td>\n",
       "      <td>1</td>\n",
       "      <td>0</td>\n",
       "      <td>0</td>\n",
       "      <td>0</td>\n",
       "      <td>0</td>\n",
       "      <td>0</td>\n",
       "      <td>0</td>\n",
       "      <td>0</td>\n",
       "      <td>0</td>\n",
       "      <td>0</td>\n",
       "      <td>0</td>\n",
       "      <td>1</td>\n",
       "    </tr>\n",
       "    <tr>\n",
       "      <th>4</th>\n",
       "      <td>716</td>\n",
       "      <td>1306</td>\n",
       "      <td>2.0</td>\n",
       "      <td>1.0</td>\n",
       "      <td>2</td>\n",
       "      <td>0.0</td>\n",
       "      <td>1200.0</td>\n",
       "      <td>0</td>\n",
       "      <td>0</td>\n",
       "      <td>0</td>\n",
       "      <td>1</td>\n",
       "      <td>0</td>\n",
       "      <td>0</td>\n",
       "      <td>0</td>\n",
       "      <td>0</td>\n",
       "      <td>0</td>\n",
       "      <td>0</td>\n",
       "      <td>0</td>\n",
       "      <td>0</td>\n",
       "      <td>0</td>\n",
       "      <td>0</td>\n",
       "      <td>1</td>\n",
       "    </tr>\n",
       "  </tbody>\n",
       "</table>\n",
       "</div>"
      ],
      "text/plain": [
       "   location  society  bath  balcony  size_num  total_sqft_min  total_sqft_max  \\\n",
       "0       419      464   2.0      1.0         2             0.0          1056.0   \n",
       "1       317     2440   5.0      3.0         4             0.0          2600.0   \n",
       "2      1180     1306   2.0      3.0         3             0.0          1440.0   \n",
       "3       757     2187   3.0      1.0         3             0.0          1521.0   \n",
       "4       716     1306   2.0      1.0         2             0.0          1200.0   \n",
       "\n",
       "   area_type_Built-up  Area  area_type_Carpet  Area  area_type_Plot  Area  \\\n",
       "0                         0                       0                     0   \n",
       "1                         0                       0                     1   \n",
       "2                         1                       0                     0   \n",
       "3                         0                       0                     0   \n",
       "4                         0                       0                     0   \n",
       "\n",
       "   area_type_Super built-up  Area  aval_categories_NegativeMonths  \\\n",
       "0                               1                               0   \n",
       "1                               0                               0   \n",
       "2                               0                               0   \n",
       "3                               1                               0   \n",
       "4                               1                               0   \n",
       "\n",
       "   aval_categories_1month  aval_categories_2months  aval_categories_3months  \\\n",
       "0                       0                        0                        0   \n",
       "1                       0                        0                        0   \n",
       "2                       0                        0                        0   \n",
       "3                       0                        0                        0   \n",
       "4                       0                        0                        0   \n",
       "\n",
       "   aval_categories_4months  aval_categories_5months  aval_categories_6months  \\\n",
       "0                        0                        0                        0   \n",
       "1                        0                        0                        0   \n",
       "2                        0                        0                        0   \n",
       "3                        0                        0                        0   \n",
       "4                        0                        0                        0   \n",
       "\n",
       "   aval_categories_7months  aval_categories_morethan7months  \\\n",
       "0                        0                                1   \n",
       "1                        0                                0   \n",
       "2                        0                                0   \n",
       "3                        0                                0   \n",
       "4                        0                                0   \n",
       "\n",
       "   aval_categories_Immediate Possession  aval_categories_Ready To Move  \n",
       "0                                     0                              0  \n",
       "1                                     0                              1  \n",
       "2                                     0                              1  \n",
       "3                                     0                              1  \n",
       "4                                     0                              1  "
      ]
     },
     "execution_count": 59,
     "metadata": {},
     "output_type": "execute_result"
    }
   ],
   "source": [
    "X.head()"
   ]
  },
  {
   "cell_type": "markdown",
   "metadata": {},
   "source": [
    "## Algorithm Selection"
   ]
  },
  {
   "cell_type": "markdown",
   "metadata": {},
   "source": [
    " * Following Algorithms are chosen for ABT\n",
    "   * Regulaized Regression to prevent the overfit.\n",
    "       * <code>Lasso, Ridge and ElasticNet</code>\n",
    "   * Ensemble Methods\n",
    "       * <code>RandomForest Regressor </code> & <code>Gradientboosting Regressor</code> trains the large number of decision trees and combines their predictions through bagging & boosting"
   ]
  },
  {
   "cell_type": "markdown",
   "metadata": {},
   "source": [
    "## Model Training"
   ]
  },
  {
   "cell_type": "markdown",
   "metadata": {},
   "source": [
    "### Data Spending"
   ]
  },
  {
   "cell_type": "code",
   "execution_count": 60,
   "metadata": {},
   "outputs": [
    {
     "name": "stdout",
     "output_type": "stream",
     "text": [
      "10232 2559 10232 2559\n"
     ]
    }
   ],
   "source": [
    "# Split the data\n",
    "X_train,X_test,y_train, y_test = train_test_split(X,y,test_size=0.2,random_state=123)\n",
    "print(len(X_train),len(X_test),len(y_train),len(y_test))"
   ]
  },
  {
   "cell_type": "markdown",
   "metadata": {},
   "source": [
    "### Pre-processing & Pipelines"
   ]
  },
  {
   "cell_type": "code",
   "execution_count": 62,
   "metadata": {
    "collapsed": true
   },
   "outputs": [],
   "source": [
    "pipelines = {\n",
    "    'lasso' : make_pipeline(StandardScaler(),Lasso(random_state=123)),\n",
    "    'ridge' : make_pipeline(StandardScaler(),Ridge(random_state=123)),\n",
    "    'enet'  : make_pipeline(StandardScaler(),ElasticNet(random_state=123)),\n",
    "    'rf' : make_pipeline(StandardScaler(),RandomForestRegressor(random_state=123)),\n",
    "    'gb' : make_pipeline(StandardScaler(),GradientBoostingRegressor(random_state=123))\n",
    "}"
   ]
  },
  {
   "cell_type": "markdown",
   "metadata": {},
   "source": [
    "### Hyperparameter Tunning"
   ]
  },
  {
   "cell_type": "code",
   "execution_count": 63,
   "metadata": {
    "collapsed": true
   },
   "outputs": [],
   "source": [
    "lasso_hyperparameters = {\n",
    "    'lasso__alpha' : [0.001,0.005,0.01,0.05,0.1,0.5,1,10]\n",
    "}\n",
    "ridge_hyperparameters = {\n",
    "    'ridge__alpha' : [0.001,0.005,0.01,0.05,0.1,0.5,1,10]\n",
    "}\n",
    "enet_hyperparameters = {\n",
    "    'elasticnet__alpha' : [0.001,0.005,0.01,0.05,0.1,0.5,1,5,10],\n",
    "    'elasticnet__l1_ratio' : [0.1,0.3,0.5,0.7,0.9]\n",
    "}\n",
    "# Random Forest hyperparameters\n",
    "rf_hyperparameters = {\n",
    "    'randomforestregressor__n_estimators': [100, 200],\n",
    "    'randomforestregressor__max_features': ['auto', 'sqrt', 0.33],\n",
    "    'randomforestregressor__min_samples_leaf': [1, 3, 5, 10]\n",
    "}\n",
    "# Boosted Tree hyperparameters\n",
    "gb_hyperparameters = {\n",
    "    'gradientboostingregressor__n_estimators': [100, 200],\n",
    "    'gradientboostingregressor__learning_rate': [0.05, 0.1, 0.2],\n",
    "    'gradientboostingregressor__max_depth': [1, 3, 5]\n",
    "}"
   ]
  },
  {
   "cell_type": "code",
   "execution_count": 64,
   "metadata": {
    "collapsed": true
   },
   "outputs": [],
   "source": [
    "hyperparameters = {\n",
    "    'lasso' : lasso_hyperparameters,\n",
    "    'ridge' : ridge_hyperparameters,\n",
    "    'enet'  : enet_hyperparameters,\n",
    "    'rf'    : rf_hyperparameters,\n",
    "    'gb'    : gb_hyperparameters\n",
    "}"
   ]
  },
  {
   "cell_type": "code",
   "execution_count": 65,
   "metadata": {},
   "outputs": [
    {
     "name": "stdout",
     "output_type": "stream",
     "text": [
      "lasso has been fitted\n",
      "ridge has been fitted\n",
      "enet has been fitted\n",
      "rf has been fitted\n",
      "gb has been fitted\n"
     ]
    }
   ],
   "source": [
    "fitted_models = {}\n",
    "\n",
    "for name, pipeline in pipelines.items():\n",
    "\n",
    "    model = GridSearchCV(pipeline,hyperparameters[name],cv=10,n_jobs=-1)\n",
    "    \n",
    "    model.fit(X_train,y_train)\n",
    "    fitted_models[name] = model\n",
    "    \n",
    "    print(name, 'has been fitted')"
   ]
  },
  {
   "cell_type": "markdown",
   "metadata": {},
   "source": [
    "### Winner Selection"
   ]
  },
  {
   "cell_type": "code",
   "execution_count": 72,
   "metadata": {},
   "outputs": [
    {
     "name": "stdout",
     "output_type": "stream",
     "text": [
      "lasso -0.000200842012484\n",
      "ridge -0.288700372805\n",
      "enet 0.102641824232\n",
      "rf 0.616879264615\n",
      "gb 0.598903421461\n"
     ]
    }
   ],
   "source": [
    "# Display best_score_ for each fitted model\n",
    "for name, model in fitted_models.items():\n",
    "    print( name, model.best_score_ )"
   ]
  },
  {
   "cell_type": "code",
   "execution_count": 67,
   "metadata": {},
   "outputs": [
    {
     "name": "stdout",
     "output_type": "stream",
     "text": [
      "lasso\n",
      "-------\n",
      "R^2:  0.185994216931\n",
      "MAE:  58.6073720345\n",
      "ridge\n",
      "-------\n",
      "R^2:  0.191768085905\n",
      "MAE:  57.9759075429\n",
      "enet\n",
      "-------\n",
      "R^2:  0.112994958805\n",
      "MAE:  66.7794317031\n",
      "rf\n",
      "-------\n",
      "R^2:  0.586458502306\n",
      "MAE:  33.6801533305\n",
      "gb\n",
      "-------\n",
      "R^2:  0.500379426687\n",
      "MAE:  34.0757552167\n"
     ]
    }
   ],
   "source": [
    "for model in fitted_models.keys():\n",
    "    pred = fitted_models[model].predict(X_test)\n",
    "    print(model)\n",
    "    print('-------')\n",
    "    print('R^2: ',r2_score(y_test,pred))\n",
    "    print('MAE: ',mean_absolute_error(y_test,pred))"
   ]
  },
  {
   "cell_type": "code",
   "execution_count": 76,
   "metadata": {},
   "outputs": [
    {
     "name": "stdout",
     "output_type": "stream",
     "text": [
      "Pipeline(memory=None,\n",
      "     steps=[('standardscaler', StandardScaler(copy=True, with_mean=True, with_std=True)), ('randomforestregressor', RandomForestRegressor(bootstrap=True, criterion='mse', max_depth=None,\n",
      "           max_features=0.33, max_leaf_nodes=None,\n",
      "           min_impurity_decrease=0.0, min_impurity_split=None,\n",
      "           min_samples_leaf=1, min_samples_split=2,\n",
      "           min_weight_fraction_leaf=0.0, n_estimators=100, n_jobs=1,\n",
      "           oob_score=False, random_state=123, verbose=0, warm_start=False))])\n"
     ]
    }
   ],
   "source": [
    "#    'randomforestregressor__n_estimators': [100, 200],\n",
    "#    'randomforestregressor__max_features': ['auto', 'sqrt', 0.33],\n",
    "#    'randomforestregressor__min_samples_leaf': [1, 3, 5, 10]\n",
    "\n",
    "print(fitted_models['rf'].best_estimator_)"
   ]
  },
  {
   "cell_type": "code",
   "execution_count": 79,
   "metadata": {},
   "outputs": [
    {
     "name": "stdout",
     "output_type": "stream",
     "text": [
      "81.04\n",
      "52.75\n",
      "42.04\n",
      "180.65\n",
      "181.31\n",
      "31.49\n",
      "47.96\n",
      "149.54\n",
      "79.19\n",
      "93.78\n"
     ]
    }
   ],
   "source": [
    "rf_pred = fitted_models['rf'].predict(X_test)\n",
    "#print(rf_pred[:10])\n",
    "#print(X_test.shape)\n",
    "#print(y_test[:])\n",
    "for i in range(10):\n",
    "    #print(i)\n",
    "    print(np.round(rf_pred[i],2))\n",
    "#print(y_test[:10])\n",
    "#y.shape"
   ]
  },
  {
   "cell_type": "markdown",
   "metadata": {
    "collapsed": true
   },
   "source": [
    "### Insights & Analysis"
   ]
  },
  {
   "cell_type": "markdown",
   "metadata": {
    "collapsed": true
   },
   "source": [
    "Random Forest has less MAE output and R^2 has more value than other models"
   ]
  }
 ],
 "metadata": {
  "kernelspec": {
   "display_name": "Python 3",
   "language": "python",
   "name": "python3"
  },
  "language_info": {
   "codemirror_mode": {
    "name": "ipython",
    "version": 3
   },
   "file_extension": ".py",
   "mimetype": "text/x-python",
   "name": "python",
   "nbconvert_exporter": "python",
   "pygments_lexer": "ipython3",
   "version": "3.6.6"
  }
 },
 "nbformat": 4,
 "nbformat_minor": 2
}
